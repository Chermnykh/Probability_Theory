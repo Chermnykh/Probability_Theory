{
 "cells": [
  {
   "cell_type": "markdown",
   "id": "40446d2a",
   "metadata": {},
   "source": [
    "# Теория вероятностей и математическая статистика\n",
    "## Урок 2. Дискретные распределения вероятностей"
   ]
  },
  {
   "cell_type": "code",
   "execution_count": 1,
   "id": "e8666042",
   "metadata": {},
   "outputs": [],
   "source": [
    "import numpy as np\n",
    "from math import factorial"
   ]
  },
  {
   "cell_type": "code",
   "execution_count": 2,
   "id": "12ed5fcf",
   "metadata": {},
   "outputs": [],
   "source": [
    "def combinations(n, k):\n",
    "    return np.math.factorial(n) / (np.math.factorial(k) * np.math.factorial(n - k))"
   ]
  },
  {
   "cell_type": "code",
   "execution_count": 3,
   "id": "181720ea",
   "metadata": {},
   "outputs": [],
   "source": [
    "def bernoulli_distribution(n, k, p, q):\n",
    "    return combinations(n, k) * p**k * q**(n-k)"
   ]
  },
  {
   "cell_type": "code",
   "execution_count": 4,
   "id": "3db0492f",
   "metadata": {},
   "outputs": [],
   "source": [
    "def poisson_distribution(m, l):\n",
    "    return (l**m / np.math.factorial(m)) * 2.72**(-l)"
   ]
  },
  {
   "cell_type": "markdown",
   "id": "c4d14e92",
   "metadata": {},
   "source": [
    "**Задача 1**  \n",
    "Вероятность того, что стрелок попадет в мишень, выстрелив один раз, равна 0.8. Стрелок выстрелил 100 раз. Найдите вероятность того, что стрелок попадет в цель ровно 85 раз."
   ]
  },
  {
   "cell_type": "code",
   "execution_count": 5,
   "id": "2657f0f9",
   "metadata": {},
   "outputs": [
    {
     "data": {
      "text/plain": [
       "0.048"
      ]
     },
     "execution_count": 5,
     "metadata": {},
     "output_type": "execute_result"
    }
   ],
   "source": [
    "p = 0.8 # Вероятность того, что стрелок попадет в мишень, выстрелив один раз\n",
    "q = 0.2 # Вероятность того, что стрелок НЕ попадет в мишень, выстрелив один раз\n",
    "n = 100 # раз стрелок выстрелил\n",
    "k = 85 # раз стрелок попал в цель\n",
    "\n",
    "round(bernoulli_distribution(n, k, p, q), 3)"
   ]
  },
  {
   "cell_type": "markdown",
   "id": "5940df6a",
   "metadata": {},
   "source": [
    "----------------------------------------"
   ]
  },
  {
   "cell_type": "markdown",
   "id": "980641f3",
   "metadata": {},
   "source": [
    "**Ответ:** P=0.048"
   ]
  },
  {
   "cell_type": "markdown",
   "id": "c5671aa8",
   "metadata": {},
   "source": [
    "-------------------------------------------"
   ]
  },
  {
   "cell_type": "markdown",
   "id": "7d6bde07",
   "metadata": {},
   "source": [
    "**Задача 2**  \n",
    "Вероятность того, что лампочка перегорит в течение первого дня эксплуатации, равна 0.0004. В жилом комплексе после ремонта в один день включили 5000 новых лампочек. Какова вероятность, что ни одна из них не перегорит в первый день? Какова вероятность, что перегорят ровно две?"
   ]
  },
  {
   "cell_type": "code",
   "execution_count": 6,
   "id": "aef44530",
   "metadata": {},
   "outputs": [
    {
     "name": "stdout",
     "output_type": "stream",
     "text": [
      "Ни одна лампочка не перегорит: 0.135\n",
      "2 лампочки перегорят: 0.27\n"
     ]
    }
   ],
   "source": [
    "p = 0.0004 # Вероятность того, что лампочка перегорит в течение первого дня эксплуатации\n",
    "n = 5000 # лампочек\n",
    "l = p * n # среднее количество наступления события\n",
    "m1 = 0 # раз лампочки перегорят\n",
    "m2 = 2 # раза лампочки перегорят\n",
    "\n",
    "no_burnout = poisson_distribution(m1, l)\n",
    "two_burnout = poisson_distribution(m2, l)\n",
    "\n",
    "print(f'Ни одна лампочка не перегорит: {round(no_burnout, 3)}')\n",
    "print(f'2 лампочки перегорят: {round(two_burnout, 3)}')"
   ]
  },
  {
   "cell_type": "markdown",
   "id": "80c67817",
   "metadata": {},
   "source": [
    "--------------------------------"
   ]
  },
  {
   "cell_type": "markdown",
   "id": "2973dec5",
   "metadata": {},
   "source": [
    "**Ответ:**  \n",
    "1) P(ни одна лампочка не перегорит) = 0.135  \n",
    "2) P(2 лампочки перегорят) = 0.27"
   ]
  },
  {
   "cell_type": "markdown",
   "id": "8f1c8c4d",
   "metadata": {},
   "source": [
    "**Задача 3:**  \n",
    "Монету подбросили 144 раза. Какова вероятность, что орел выпадет ровно 70 раз?"
   ]
  },
  {
   "cell_type": "code",
   "execution_count": 7,
   "id": "30a61e18",
   "metadata": {},
   "outputs": [
    {
     "data": {
      "text/plain": [
       "0.063"
      ]
     },
     "execution_count": 7,
     "metadata": {},
     "output_type": "execute_result"
    }
   ],
   "source": [
    "n = 144 # раза подбросили монетку\n",
    "k = 70 # раз выпал орел\n",
    "p = 0.5 # вероятность того, что выпадет орел\n",
    "q = 0.5 # вероятность того,что орел НЕ выпадет, то есть выпадет решка\n",
    "\n",
    "round(bernoulli_distribution(n, k, p, q), 3)"
   ]
  },
  {
   "cell_type": "markdown",
   "id": "4a09c993",
   "metadata": {},
   "source": [
    "------------------------"
   ]
  },
  {
   "cell_type": "markdown",
   "id": "2fde57ec",
   "metadata": {},
   "source": [
    "**Ответ:** P = 0.063"
   ]
  },
  {
   "cell_type": "markdown",
   "id": "d1a2113a",
   "metadata": {},
   "source": [
    "-------------------------"
   ]
  },
  {
   "cell_type": "markdown",
   "id": "28d2e166",
   "metadata": {},
   "source": [
    "**Задача 4:**  \n",
    "В первом ящике находится 10 мячей, из которых 7 - белые. Во втором ящике - 11 мячей, из которых 9 белых. Из каждого ящика вытаскивают случайным образом по два мяча. Какова вероятность того, что все мячи белые? Какова вероятность того, что ровно два мяча белые? Какова вероятность того, что хотя бы один мяч белый?"
   ]
  },
  {
   "cell_type": "code",
   "execution_count": 8,
   "id": "b278f9b9",
   "metadata": {},
   "outputs": [
    {
     "name": "stdout",
     "output_type": "stream",
     "text": [
      "Все мячи белые: 0.305\n",
      "Ровно 2 мяча белых: 0.205\n",
      "Хотя бы 1 белый мяч: 0.999\n"
     ]
    }
   ],
   "source": [
    "# Какова вероятность того, что все мячи белые?\n",
    "all_white = (7/10 * 6/9) * (9/11 * 8/10)\n",
    "\n",
    "# Какова вероятность того, что ровно два мяча белые? \n",
    "#          (ББ)(ЧЧ)       либо     (ЧЧ)(ББ)      либо     (БЧ)(БЧ)      либо     (ЧБ)(ЧБ)      либо    (БЧ)(ЧБ)      либо (ЧБ)(БЧ)\n",
    "two_white = (7/10*6/9)*(2/11*1/10)+(3/10*2/9)*(9/11*8/10)+(7/10*3/9)*(9/11*2/10)+(3/10*7/9)*(2/11*9/10)+(7/10*3/9)*(2/11*9/10)+(3/10*7/9)*(9/11*2/10)\n",
    "\n",
    "# Какова вероятность того, что хотя бы один мяч белый?\n",
    "no_white = (3/10 * 2/9) * (2/11 * 1/10) # вероятность того, что не будет ни одного белого мяча\n",
    "at_least_one = 1 - no_white\n",
    "\n",
    "print(f'Все мячи белые: {round(all_white, 3)}')\n",
    "print(f'Ровно 2 мяча белых: {round(two_white, 3)}')\n",
    "print(f'Хотя бы 1 белый мяч: {round(at_least_one, 3)}')"
   ]
  },
  {
   "cell_type": "markdown",
   "id": "dfd73e26",
   "metadata": {},
   "source": [
    "---------------"
   ]
  },
  {
   "cell_type": "markdown",
   "id": "5a3a3d9c",
   "metadata": {},
   "source": [
    "**Ответ:**  \n",
    "1) P(все мячи белые) = 0.305    \n",
    "2) P(ровно 2 мяча белых) = 0.205    \n",
    "3) P(хотя бы 1 белый мяч) = 0.999  "
   ]
  },
  {
   "cell_type": "markdown",
   "id": "fc7bf1d7",
   "metadata": {},
   "source": [
    "----------------------------------------"
   ]
  }
 ],
 "metadata": {
  "kernelspec": {
   "display_name": "Python 3 (ipykernel)",
   "language": "python",
   "name": "python3"
  },
  "language_info": {
   "codemirror_mode": {
    "name": "ipython",
    "version": 3
   },
   "file_extension": ".py",
   "mimetype": "text/x-python",
   "name": "python",
   "nbconvert_exporter": "python",
   "pygments_lexer": "ipython3",
   "version": "3.10.2"
  }
 },
 "nbformat": 4,
 "nbformat_minor": 5
}
