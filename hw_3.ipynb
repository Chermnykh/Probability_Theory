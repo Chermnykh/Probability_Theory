{
 "cells": [
  {
   "cell_type": "markdown",
   "id": "0953cf55",
   "metadata": {},
   "source": [
    "# Теория вероятностей и математическая статистика\n",
    "## Урок 3. EDA (exploratory data analysis) или Разведочный анализ"
   ]
  },
  {
   "cell_type": "code",
   "execution_count": 1,
   "id": "f392dda1",
   "metadata": {},
   "outputs": [],
   "source": [
    "import numpy as np\n",
    "from math import factorial"
   ]
  },
  {
   "cell_type": "code",
   "execution_count": 2,
   "id": "26b883c1",
   "metadata": {},
   "outputs": [],
   "source": [
    "def combinations(n, k):\n",
    "    return np.math.factorial(n) / (np.math.factorial(k) * np.math.factorial(n - k))"
   ]
  },
  {
   "cell_type": "markdown",
   "id": "219c64c2",
   "metadata": {},
   "source": [
    "**Задача 1**  \n",
    "Даны значения зарплат из выборки выпускников: 100, 80, 75, 77, 89, 33, 45, 25, 65, 17, 30, 24, 57, 55, 70, 75, 65, 84, 90, 150. Посчитать (желательно без использования статистических методов наподобие std, var, mean) среднее арифметическое, среднее квадратичное отклонение, смещенную и несмещенную оценки дисперсий для данной выборки."
   ]
  },
  {
   "cell_type": "code",
   "execution_count": 3,
   "id": "73ba3da9",
   "metadata": {},
   "outputs": [],
   "source": [
    "salary = np.array([100, 80, 75, 77, 89, 33, 45, 25, 65, 17, 30, 24, 57, 55, 70, 75, 65, 84, 90, 150])"
   ]
  },
  {
   "cell_type": "code",
   "execution_count": 4,
   "id": "77711406",
   "metadata": {},
   "outputs": [
    {
     "data": {
      "text/plain": [
       "65.3"
      ]
     },
     "execution_count": 4,
     "metadata": {},
     "output_type": "execute_result"
    }
   ],
   "source": [
    "# Среднее арифметическое\n",
    "salary_mean = salary.sum() / salary.shape[0]\n",
    "salary_mean"
   ]
  },
  {
   "cell_type": "code",
   "execution_count": 5,
   "id": "eabdbd9a",
   "metadata": {},
   "outputs": [
    {
     "name": "stdout",
     "output_type": "stream",
     "text": [
      "950.11\n",
      "30.82\n"
     ]
    }
   ],
   "source": [
    "# Смещенная дисперсия\n",
    "biased_var = ((salary - salary_mean)**2).sum() / (salary.shape[0])\n",
    "print(biased_var)\n",
    "# СКО\n",
    "st_dev_biased = np.sqrt(biased_var)\n",
    "print(round(st_dev_biased, 2))"
   ]
  },
  {
   "cell_type": "code",
   "execution_count": 6,
   "id": "430d606a",
   "metadata": {},
   "outputs": [
    {
     "name": "stdout",
     "output_type": "stream",
     "text": [
      "1000.12\n",
      "31.62\n"
     ]
    }
   ],
   "source": [
    "# Смещенная дисперсия\n",
    "unbiased_var = ((salary - salary_mean)**2).sum() / (salary.shape[0] - 1)\n",
    "print(round(unbiased_var, 2))\n",
    "# СКО\n",
    "st_dev_unbiased = np.sqrt(unbiased_var)\n",
    "print(round(st_dev_unbiased, 2))"
   ]
  },
  {
   "cell_type": "markdown",
   "id": "76a82517",
   "metadata": {},
   "source": [
    "----------------------"
   ]
  },
  {
   "cell_type": "markdown",
   "id": "eaa5e78b",
   "metadata": {},
   "source": [
    "**Ответ:**  \n",
    "1) *Среднее арифметическое* = 65.3  \n",
    "2) *Смещенная дисперсия* = 950.11, *СКО* = 30.82  \n",
    "3) *Несмещенная дисперсия* = 1000.12, *СКО* = 31.62  "
   ]
  },
  {
   "cell_type": "markdown",
   "id": "42774ce8",
   "metadata": {},
   "source": [
    "--------------------------"
   ]
  },
  {
   "cell_type": "markdown",
   "id": "ec055420",
   "metadata": {},
   "source": [
    "**Задача 2**  \n",
    "В первом ящике находится 8 мячей, из которых 5 - белые. Во втором ящике - 12 мячей, из которых 5 белых. Из первого ящика вытаскивают случайным образом два мяча, из второго - 4. Какова вероятность того, что 3 мяча белые?"
   ]
  },
  {
   "cell_type": "code",
   "execution_count": 7,
   "id": "666df8fc",
   "metadata": {},
   "outputs": [],
   "source": [
    "# Из 1-го ящика достали 0 белых, из второго - 3 белых\n",
    "p1 = ((combinations(5,0) * combinations(3,2)) / combinations(8,2)) * ((combinations(5,3) * combinations(7,1)) / combinations(12,4))\n",
    "\n",
    "# Из 1-го ящика достали 1 белый, из второго - 2 белых\n",
    "p2 = ((combinations(5,1) * combinations(3,1)) / combinations(8,2)) * ((combinations(5,2) * combinations(7,2)) / combinations(12,4))\n",
    "\n",
    "# Из 1-го ящика достали 2 белых, из второго - 1 белый\n",
    "p3 = ((combinations(5,2) * combinations(3,0)) / combinations(8,2)) * ((combinations(5,1) * combinations(7,3)) / combinations(12,4))"
   ]
  },
  {
   "cell_type": "code",
   "execution_count": 8,
   "id": "b9d0a762",
   "metadata": {
    "scrolled": true
   },
   "outputs": [
    {
     "data": {
      "text/plain": [
       "0.37"
      ]
     },
     "execution_count": 8,
     "metadata": {},
     "output_type": "execute_result"
    }
   ],
   "source": [
    "# Какова вероятность того, что 3 мяча белые?\n",
    "round(p1+p2+p3, 2)"
   ]
  },
  {
   "cell_type": "markdown",
   "id": "462edff5",
   "metadata": {},
   "source": [
    "------------------"
   ]
  },
  {
   "cell_type": "markdown",
   "id": "50bfb216",
   "metadata": {},
   "source": [
    "**Ответ:**  0.37"
   ]
  },
  {
   "cell_type": "markdown",
   "id": "73a57120",
   "metadata": {},
   "source": [
    "---------------------"
   ]
  },
  {
   "cell_type": "markdown",
   "id": "2b423d0d",
   "metadata": {},
   "source": [
    "**Задача 3:**  \n",
    "На соревновании по биатлону один из трех спортсменов стреляет и попадает в мишень. Вероятность попадания для первого спортсмена равна 0.9, для второго — 0.8, для третьего — 0.6. Найти вероятность того, что выстрел произведен: a). первым спортсменом б). вторым спортсменом в). третьим спортсменом.  \n",
    "\n",
    "A - попадание в мишень  \n",
    "B1 - стрелял 1 спортсмен (=1/3)  \n",
    "B2 - стрелял 2 спортсмен  (=1/3)  \n",
    "B3 - стрелял 3 спортсмен  (=1/3)  "
   ]
  },
  {
   "cell_type": "code",
   "execution_count": 9,
   "id": "525717a2",
   "metadata": {},
   "outputs": [],
   "source": [
    "# Общая вероятность\n",
    "general_prob = 1/3 * 0.9 + 1/3 * 0.8 + 1/3 * 0.6"
   ]
  },
  {
   "cell_type": "code",
   "execution_count": 10,
   "id": "1a585adb",
   "metadata": {},
   "outputs": [
    {
     "data": {
      "text/plain": [
       "0.39"
      ]
     },
     "execution_count": 10,
     "metadata": {},
     "output_type": "execute_result"
    }
   ],
   "source": [
    "# Стрелял 1 спортсмен\n",
    "P1 = (0.9 * 1/3) / general_prob\n",
    "round(P1, 2)"
   ]
  },
  {
   "cell_type": "code",
   "execution_count": 11,
   "id": "0d1cbaeb",
   "metadata": {},
   "outputs": [
    {
     "data": {
      "text/plain": [
       "0.35"
      ]
     },
     "execution_count": 11,
     "metadata": {},
     "output_type": "execute_result"
    }
   ],
   "source": [
    "# Стрелял 2 спортсмен\n",
    "P2 = (0.8 * 1/3) / general_prob\n",
    "round(P2, 2)"
   ]
  },
  {
   "cell_type": "code",
   "execution_count": 12,
   "id": "62681c11",
   "metadata": {},
   "outputs": [
    {
     "data": {
      "text/plain": [
       "0.26"
      ]
     },
     "execution_count": 12,
     "metadata": {},
     "output_type": "execute_result"
    }
   ],
   "source": [
    "# Стрелял 3 спортсмен\n",
    "P3 = (0.6 * 1/3) / general_prob\n",
    "round(P3, 2)"
   ]
  },
  {
   "cell_type": "markdown",
   "id": "34e3e5f1",
   "metadata": {},
   "source": [
    "-----------------"
   ]
  },
  {
   "cell_type": "markdown",
   "id": "52d1dc99",
   "metadata": {},
   "source": [
    "**Ответ:**  \n",
    "а) *Вероятность того, что выстрел произведен первым спортсменом* = 0.39  \n",
    "б) *Вероятность того, что выстрел произведен вторым спортсменом* = 0.35  \n",
    "в) *Вероятность того, что выстрел произведен третьим спортсменом* = 0.26"
   ]
  },
  {
   "cell_type": "markdown",
   "id": "6753a401",
   "metadata": {},
   "source": [
    "-----------------------------"
   ]
  },
  {
   "cell_type": "markdown",
   "id": "80266a8b",
   "metadata": {},
   "source": [
    "**Задача 4:**  \n",
    "В университет на факультеты A и B поступило равное количество студентов, а на факультет C студентов поступило столько же, сколько на A и B вместе. Вероятность того, что студент факультета A сдаст первую сессию, равна 0.8. Для студента факультета B эта вероятность равна 0.7, а для студента факультета C - 0.9. Студент сдал первую сессию. Какова вероятность, что он учится: a). на факультете A б). на факультете B в). на факультете C?\n",
    "\n",
    "A - сессия сдана  \n",
    "\n",
    "A + B + C = 1\n",
    "\n",
    "B1 - студент факультета А (=1/4)  \n",
    "B2 - студент факультета B  (=1/4)  \n",
    "B3 - студент факульетта С  (=2/4=1/2)  "
   ]
  },
  {
   "cell_type": "code",
   "execution_count": 13,
   "id": "3e3a69f9",
   "metadata": {},
   "outputs": [],
   "source": [
    "# Общая вероятность\n",
    "general_prob = 1/4 * 0.8 + 1/4 * 0.7 + 1/2 * 0.9"
   ]
  },
  {
   "cell_type": "code",
   "execution_count": 14,
   "id": "4b7b42bf",
   "metadata": {},
   "outputs": [
    {
     "data": {
      "text/plain": [
       "0.24"
      ]
     },
     "execution_count": 14,
     "metadata": {},
     "output_type": "execute_result"
    }
   ],
   "source": [
    "# студент факультета А\n",
    "P1 = (0.8 * 1/4) / general_prob\n",
    "round(P1, 2)"
   ]
  },
  {
   "cell_type": "code",
   "execution_count": 15,
   "id": "40c4cd9d",
   "metadata": {},
   "outputs": [
    {
     "data": {
      "text/plain": [
       "0.21"
      ]
     },
     "execution_count": 15,
     "metadata": {},
     "output_type": "execute_result"
    }
   ],
   "source": [
    "# студент факультета B\n",
    "P2 = (0.7 * 1/4) / general_prob\n",
    "round(P2, 2)"
   ]
  },
  {
   "cell_type": "code",
   "execution_count": 16,
   "id": "c0fe56ab",
   "metadata": {},
   "outputs": [
    {
     "data": {
      "text/plain": [
       "0.55"
      ]
     },
     "execution_count": 16,
     "metadata": {},
     "output_type": "execute_result"
    }
   ],
   "source": [
    "# студент факультета C\n",
    "P3 = (0.9 * 1/2) / general_prob\n",
    "round(P3, 2)"
   ]
  },
  {
   "cell_type": "markdown",
   "id": "6a424756",
   "metadata": {},
   "source": [
    "----------------"
   ]
  },
  {
   "cell_type": "markdown",
   "id": "c718da81",
   "metadata": {},
   "source": [
    "**Ответ:**  \n",
    "а) *Студент учится на факультете А* = 0.24    \n",
    "б) *Студент учится на факультете В* = 0.21  \n",
    "в) *Студент учится на факультете С* = 0.55  "
   ]
  },
  {
   "cell_type": "markdown",
   "id": "2e1368c1",
   "metadata": {},
   "source": [
    "--------------------"
   ]
  },
  {
   "cell_type": "markdown",
   "id": "3c0261a8",
   "metadata": {},
   "source": [
    "**Задача 5**  \n",
    "Устройство состоит из трех деталей. Для первой детали вероятность выйти из строя в первый месяц равна 0.1, для второй - 0.2, для третьей - 0.25. Какова вероятность того, что в первый месяц выйдут из строя: а). все детали б). только две детали в). хотя бы одна деталь г). от одной до двух деталей?"
   ]
  },
  {
   "cell_type": "code",
   "execution_count": 17,
   "id": "4f1c7a19",
   "metadata": {},
   "outputs": [
    {
     "data": {
      "text/plain": [
       "0.005"
      ]
     },
     "execution_count": 17,
     "metadata": {},
     "output_type": "execute_result"
    }
   ],
   "source": [
    "# Выйдут из строя все детали\n",
    "p1 = 0.1 * 0.2 * 0.25\n",
    "round(p1, 4)"
   ]
  },
  {
   "cell_type": "code",
   "execution_count": 18,
   "id": "2dc4a5d6",
   "metadata": {},
   "outputs": [
    {
     "data": {
      "text/plain": [
       "0.08"
      ]
     },
     "execution_count": 18,
     "metadata": {},
     "output_type": "execute_result"
    }
   ],
   "source": [
    "# Выйдут из строя 2 детали \n",
    "#   3 не вышла из строя     1 не вышла       2  не вышла\n",
    "p2 = 0.1 * 0.2 * 0.75 + 0.9 * 0.2 * 0.25 + 0.1 * 0.8 * 0.25\n",
    "round(p2, 4)"
   ]
  },
  {
   "cell_type": "code",
   "execution_count": 19,
   "id": "8dcfdd2c",
   "metadata": {},
   "outputs": [
    {
     "data": {
      "text/plain": [
       "0.46"
      ]
     },
     "execution_count": 19,
     "metadata": {},
     "output_type": "execute_result"
    }
   ],
   "source": [
    "# Выйдет из строя хотя бы 1 деталь = 1 - не выйдет ни одна деталь\n",
    "p3 = 1 - 0.9 * 0.8 * 0.75\n",
    "round(p3, 3)"
   ]
  },
  {
   "cell_type": "code",
   "execution_count": 20,
   "id": "71fcb158",
   "metadata": {},
   "outputs": [
    {
     "data": {
      "text/plain": [
       "0.455"
      ]
     },
     "execution_count": 20,
     "metadata": {},
     "output_type": "execute_result"
    }
   ],
   "source": [
    "# Выйдет от 1 до 2 деталей = 1 деталь + 2 детали\n",
    "p4 = p2 + 0.1 * 0.8 * 0.75 + 0.9 * 0.2 * 0.75 + 0.9 * 0.8 * 0.25\n",
    "round(p4, 3)"
   ]
  },
  {
   "cell_type": "markdown",
   "id": "bf391cc6",
   "metadata": {},
   "source": [
    "-------------"
   ]
  },
  {
   "cell_type": "markdown",
   "id": "43be5aa8",
   "metadata": {},
   "source": [
    "**Ответ:**  \n",
    "а) *Все детали выйдут из строя* = 0.005  \n",
    "б) *2 детали выйдут из строя* = 0.08  \n",
    "в) *Хотя бы 1 деталь выйдет из строя* = 0.46  \n",
    "г) *От 1 до 2 деталей выйдут из строя* = 0.455"
   ]
  }
 ],
 "metadata": {
  "kernelspec": {
   "display_name": "Python 3 (ipykernel)",
   "language": "python",
   "name": "python3"
  },
  "language_info": {
   "codemirror_mode": {
    "name": "ipython",
    "version": 3
   },
   "file_extension": ".py",
   "mimetype": "text/x-python",
   "name": "python",
   "nbconvert_exporter": "python",
   "pygments_lexer": "ipython3",
   "version": "3.10.2"
  }
 },
 "nbformat": 4,
 "nbformat_minor": 5
}
