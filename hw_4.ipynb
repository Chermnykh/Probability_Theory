{
 "cells": [
  {
   "cell_type": "markdown",
   "id": "8917bd54",
   "metadata": {},
   "source": [
    "# Теория вероятностей и математическая статистика\n",
    "## Урок 4. Непрерывная случайная величина"
   ]
  },
  {
   "cell_type": "code",
   "execution_count": 1,
   "id": "2829439c",
   "metadata": {},
   "outputs": [],
   "source": [
    "import numpy as np\n",
    "from scipy import stats\n",
    "import math"
   ]
  },
  {
   "cell_type": "markdown",
   "id": "9c2a65ee",
   "metadata": {},
   "source": [
    "**Задача 1**  \n",
    "Случайная непрерывная величина A имеет равномерное распределение на промежутке (200, 800].\n",
    "Найдите ее среднее значение и дисперсию."
   ]
  },
  {
   "cell_type": "code",
   "execution_count": 2,
   "id": "101495e1",
   "metadata": {},
   "outputs": [],
   "source": [
    "A = (200, 800)"
   ]
  },
  {
   "cell_type": "markdown",
   "id": "b2163b13",
   "metadata": {},
   "source": [
    "*Среднее значение*"
   ]
  },
  {
   "cell_type": "code",
   "execution_count": 3,
   "id": "e53aecdf",
   "metadata": {},
   "outputs": [
    {
     "name": "stdout",
     "output_type": "stream",
     "text": [
      "500.0\n"
     ]
    }
   ],
   "source": [
    "# M(x)=(a+b)/2\n",
    "Mx = (A[0]+A[1])/2\n",
    "print(Mx)"
   ]
  },
  {
   "cell_type": "markdown",
   "id": "297ddb18",
   "metadata": {},
   "source": [
    "*Диспресия*"
   ]
  },
  {
   "cell_type": "code",
   "execution_count": 4,
   "id": "786c3b06",
   "metadata": {},
   "outputs": [
    {
     "name": "stdout",
     "output_type": "stream",
     "text": [
      "30000.0\n"
     ]
    }
   ],
   "source": [
    "# D(x)=((b-a)^2)/12\n",
    "D = (A[1]-A[0])**2/12\n",
    "print(D)"
   ]
  },
  {
   "cell_type": "markdown",
   "id": "0d282448",
   "metadata": {},
   "source": [
    "-------------"
   ]
  },
  {
   "cell_type": "markdown",
   "id": "b46383a9",
   "metadata": {},
   "source": [
    "**Ответ:**  \n",
    "*Среднее значение* = 500  \n",
    "*Дисперсия* = 30000"
   ]
  },
  {
   "cell_type": "markdown",
   "id": "82f146dc",
   "metadata": {},
   "source": [
    "------------"
   ]
  },
  {
   "cell_type": "markdown",
   "id": "27688c48",
   "metadata": {},
   "source": [
    "**Задача 2**  \n",
    "О случайной непрерывной равномерно распределенной величине B известно, что ее дисперсия равна 0.2.\n",
    "Можно ли найти правую границу величины B и ее среднее значение зная, что левая граница равна 0.5?\n",
    "Если да, найдите ее."
   ]
  },
  {
   "cell_type": "code",
   "execution_count": 5,
   "id": "2621d1cc",
   "metadata": {},
   "outputs": [],
   "source": [
    "a = 0.5 # левая граница\n",
    "Dx = 0.2 # дисперсия"
   ]
  },
  {
   "cell_type": "markdown",
   "id": "5c38c8cb",
   "metadata": {},
   "source": [
    "*Правая граница*"
   ]
  },
  {
   "cell_type": "code",
   "execution_count": 6,
   "id": "71316bec",
   "metadata": {},
   "outputs": [
    {
     "data": {
      "text/plain": [
       "2.05"
      ]
     },
     "execution_count": 6,
     "metadata": {},
     "output_type": "execute_result"
    }
   ],
   "source": [
    "# Из формулы дисперсии -> b=sqrt(12D(x)) + a\n",
    "b = math.sqrt(12*Dx) + a\n",
    "round(b, 2)"
   ]
  },
  {
   "cell_type": "markdown",
   "id": "23871122",
   "metadata": {},
   "source": [
    "*Среднее значение*"
   ]
  },
  {
   "cell_type": "code",
   "execution_count": 7,
   "id": "631bb6e1",
   "metadata": {},
   "outputs": [
    {
     "data": {
      "text/plain": [
       "1.27"
      ]
     },
     "execution_count": 7,
     "metadata": {},
     "output_type": "execute_result"
    }
   ],
   "source": [
    "Mx = (a+b)/2\n",
    "round(Mx, 2)"
   ]
  },
  {
   "cell_type": "markdown",
   "id": "e6804160",
   "metadata": {},
   "source": [
    "----------------"
   ]
  },
  {
   "cell_type": "markdown",
   "id": "5292acac",
   "metadata": {},
   "source": [
    "**Ответ:**  \n",
    "*Правая граница* = 2.05  \n",
    "*Среднее значение* = 1.27"
   ]
  },
  {
   "cell_type": "markdown",
   "id": "1ecfe972",
   "metadata": {},
   "source": [
    "------------"
   ]
  },
  {
   "cell_type": "markdown",
   "id": "80798e67",
   "metadata": {},
   "source": [
    "**Задача 3**  \n",
    "Непрерывная случайная величина X распределена нормально и задана плотностью распределения\n",
    "\n",
    "f(x) = (1 / (4 * sqrt(2*pi))) * (exp(-(x+2)**2) / 32).\n",
    "\n",
    "Найдите:\n",
    "\n",
    "а). M(X)\n",
    "\n",
    "б). D(X)\n",
    "\n",
    "в). std(X) (среднее квадратичное отклонение)"
   ]
  },
  {
   "cell_type": "markdown",
   "id": "c42cbedf",
   "metadata": {},
   "source": [
    "**Ответ:**  \n",
    "Все значения даны в формуле:  \n",
    "a) M(x) = -2   \n",
    "б) D(x) = 16  \n",
    "в) std(X) = 4"
   ]
  },
  {
   "cell_type": "markdown",
   "id": "a7bfe5d4",
   "metadata": {},
   "source": [
    "**Задача 4**  \n",
    "Рост взрослого населения города X имеет нормальное распределение.\n",
    "\n",
    "Причем, средний рост равен 174 см, а среднее квадратичное отклонение равно 8 см.\n",
    "\n",
    "Какова вероятность того, что случайным образом выбранный взрослый человек имеет рост:"
   ]
  },
  {
   "cell_type": "code",
   "execution_count": 8,
   "id": "340317e2",
   "metadata": {},
   "outputs": [],
   "source": [
    "a = 174 # средний рост\n",
    "std = 8"
   ]
  },
  {
   "cell_type": "markdown",
   "id": "64941b53",
   "metadata": {},
   "source": [
    "*а). больше 182 см*"
   ]
  },
  {
   "cell_type": "code",
   "execution_count": 9,
   "id": "9c554ef5",
   "metadata": {},
   "outputs": [
    {
     "data": {
      "text/plain": [
       "1.0"
      ]
     },
     "execution_count": 9,
     "metadata": {},
     "output_type": "execute_result"
    }
   ],
   "source": [
    "b182 = 182\n",
    "z182 = (b182 - a) / std\n",
    "z182"
   ]
  },
  {
   "cell_type": "code",
   "execution_count": 10,
   "id": "1e881ae5",
   "metadata": {},
   "outputs": [
    {
     "name": "stdout",
     "output_type": "stream",
     "text": [
      "Вероятность того, что случайным образом выбранный взрослый человек имеет рост больше 182см  = 0.1587\n"
     ]
    }
   ],
   "source": [
    "f182 = 0.8413 # значение функции распределения\n",
    "p182 =  1 - f182\n",
    "print(f'Вероятность того, что случайным образом выбранный взрослый человек имеет рост больше {b182}см  = {p182:.4f}')"
   ]
  },
  {
   "cell_type": "markdown",
   "id": "cbcc4cdd",
   "metadata": {},
   "source": [
    "б). больше 190 см"
   ]
  },
  {
   "cell_type": "code",
   "execution_count": 11,
   "id": "ef8a6e39",
   "metadata": {},
   "outputs": [
    {
     "data": {
      "text/plain": [
       "2.0"
      ]
     },
     "execution_count": 11,
     "metadata": {},
     "output_type": "execute_result"
    }
   ],
   "source": [
    "b190 = 190\n",
    "z190 = (b190 - a) / std\n",
    "z190"
   ]
  },
  {
   "cell_type": "code",
   "execution_count": 12,
   "id": "ecccc889",
   "metadata": {},
   "outputs": [
    {
     "name": "stdout",
     "output_type": "stream",
     "text": [
      "Вероятность того, что случайным образом выбранный взрослый человек имеет рост больше 190см  = 0.0228\n"
     ]
    }
   ],
   "source": [
    "f190 = 0.9772\n",
    "p190 =  1 - f190\n",
    "print(f'Вероятность того, что случайным образом выбранный взрослый человек имеет рост больше {b190}см  = {p190:.4f}')"
   ]
  },
  {
   "cell_type": "markdown",
   "id": "057775aa",
   "metadata": {},
   "source": [
    "в). от 166 см до 190 см"
   ]
  },
  {
   "cell_type": "code",
   "execution_count": 13,
   "id": "ac423ca8",
   "metadata": {},
   "outputs": [
    {
     "data": {
      "text/plain": [
       "-1.0"
      ]
     },
     "execution_count": 13,
     "metadata": {},
     "output_type": "execute_result"
    }
   ],
   "source": [
    "b166 = 166\n",
    "z166 = (b166 - a) / std\n",
    "z166"
   ]
  },
  {
   "cell_type": "code",
   "execution_count": 14,
   "id": "f28e9e25",
   "metadata": {},
   "outputs": [
    {
     "name": "stdout",
     "output_type": "stream",
     "text": [
      "Вероятность того, что случайным образом выбранный взрослый человек имеет рост от 166см до 190см  = 0.8185\n"
     ]
    }
   ],
   "source": [
    "f166 =  0.1587\n",
    "p166_190 =  f190 - f166\n",
    "print(f'Вероятность того, что случайным образом выбранный взрослый человек имеет рост от {b166}см до {b190}см  = {p166_190:.4f}')"
   ]
  },
  {
   "cell_type": "markdown",
   "id": "74676113",
   "metadata": {},
   "source": [
    "г). от 166 см до 182 см"
   ]
  },
  {
   "cell_type": "code",
   "execution_count": 15,
   "id": "4b261f37",
   "metadata": {},
   "outputs": [
    {
     "name": "stdout",
     "output_type": "stream",
     "text": [
      "Вероятность того, что случайным образом выбранный взрослый человек имеет рост от 166см до 182см  = 0.6826\n"
     ]
    }
   ],
   "source": [
    "f182 = 0.8413\n",
    "p166_182 =  f182 - f166\n",
    "print(f'Вероятность того, что случайным образом выбранный взрослый человек имеет рост от {b166}см до {b182}см  = {p166_182:.4f}')"
   ]
  },
  {
   "cell_type": "markdown",
   "id": "2a79a56b",
   "metadata": {},
   "source": [
    "д). от 158 см до 190 см"
   ]
  },
  {
   "cell_type": "code",
   "execution_count": 16,
   "id": "0556bc5b",
   "metadata": {},
   "outputs": [
    {
     "data": {
      "text/plain": [
       "-2.0"
      ]
     },
     "execution_count": 16,
     "metadata": {},
     "output_type": "execute_result"
    }
   ],
   "source": [
    "b158 = 158\n",
    "z158 = (b158 - a) / std\n",
    "z158"
   ]
  },
  {
   "cell_type": "code",
   "execution_count": 17,
   "id": "a9a611a9",
   "metadata": {},
   "outputs": [
    {
     "name": "stdout",
     "output_type": "stream",
     "text": [
      "Вероятность того, что случайным образом выбранный взрослый человек имеет рост от 158см до 190см  = 0.9544\n"
     ]
    }
   ],
   "source": [
    "f158 =  0.0228\n",
    "p158_190 =  f190 - f158\n",
    "print(f'Вероятность того, что случайным образом выбранный взрослый человек имеет рост от {b158}см до {b190}см  = {p158_190:.4f}')"
   ]
  },
  {
   "cell_type": "markdown",
   "id": "a2b5995a",
   "metadata": {},
   "source": [
    "е). не выше 150 см или не ниже 190 см"
   ]
  },
  {
   "cell_type": "code",
   "execution_count": 18,
   "id": "a438a6b1",
   "metadata": {},
   "outputs": [
    {
     "data": {
      "text/plain": [
       "-3.0"
      ]
     },
     "execution_count": 18,
     "metadata": {},
     "output_type": "execute_result"
    }
   ],
   "source": [
    "b150 = 150\n",
    "z150 = (b150 - a) / std\n",
    "z150"
   ]
  },
  {
   "cell_type": "code",
   "execution_count": 19,
   "id": "6f58ef57",
   "metadata": {},
   "outputs": [
    {
     "name": "stdout",
     "output_type": "stream",
     "text": [
      "Вероятность того, что случайным образом выбранный взрослый человек имеет рост не выше 150см или не ниже 190см = 0.0241\n"
     ]
    }
   ],
   "source": [
    "f150 = 0.0013\n",
    "p150_190 = f150 + 1 - f190\n",
    "print(f'Вероятность того, что случайным образом выбранный взрослый человек имеет рост не выше {b150}см или не ниже {b190}см = {p150_190:.4f}')"
   ]
  },
  {
   "cell_type": "markdown",
   "id": "c0aec893",
   "metadata": {},
   "source": [
    "ё). не выше 150 см или не ниже 198 см"
   ]
  },
  {
   "cell_type": "code",
   "execution_count": 20,
   "id": "bf9b3c50",
   "metadata": {},
   "outputs": [
    {
     "data": {
      "text/plain": [
       "3.0"
      ]
     },
     "execution_count": 20,
     "metadata": {},
     "output_type": "execute_result"
    }
   ],
   "source": [
    "b198 = 198\n",
    "z198 = (b198 - a) / std\n",
    "z198"
   ]
  },
  {
   "cell_type": "code",
   "execution_count": 21,
   "id": "f80379aa",
   "metadata": {},
   "outputs": [
    {
     "name": "stdout",
     "output_type": "stream",
     "text": [
      "Вероятность того, что случайным образом выбранный взрослый человек имеет рост не выше 150см или не ниже 198см = 0.0026\n"
     ]
    }
   ],
   "source": [
    "f198 = 0.9987\n",
    "p150_198 = f150 + 1 - f198\n",
    "print(f'Вероятность того, что случайным образом выбранный взрослый человек имеет рост не выше {b150}см или не ниже {b198}см = {p150_198:.4f}')"
   ]
  },
  {
   "cell_type": "markdown",
   "id": "ae89e3ec",
   "metadata": {},
   "source": [
    "ж). ниже 166 см."
   ]
  },
  {
   "cell_type": "code",
   "execution_count": 22,
   "id": "8d9ced4d",
   "metadata": {},
   "outputs": [
    {
     "name": "stdout",
     "output_type": "stream",
     "text": [
      "Вероятность того, что случайным образом выбранный взрослый человек имеет рост ниже 166см  = 0.1587\n"
     ]
    }
   ],
   "source": [
    "print(f'Вероятность того, что случайным образом выбранный взрослый человек имеет рост ниже {b166}см  = {f166}')"
   ]
  },
  {
   "cell_type": "markdown",
   "id": "8074cf17",
   "metadata": {},
   "source": [
    "**Задача 5**  \n",
    "На сколько сигм (средних квадратичных отклонений) отклоняется рост человека, равный 190 см, от\n",
    "математического ожидания роста в популяции, в которой M(X) = 178 см и D(X) = 25 кв.см?\n"
   ]
  },
  {
   "cell_type": "code",
   "execution_count": 23,
   "id": "aa0fcb4e",
   "metadata": {},
   "outputs": [
    {
     "name": "stdout",
     "output_type": "stream",
     "text": [
      "Рост человека, равный 190 см, отколняется на 2.4 сигмы\n"
     ]
    }
   ],
   "source": [
    "std = (190 - 178) / math.sqrt(25)\n",
    "print(f'Рост человека, равный 190 см, отколняется на {std} сигмы')"
   ]
  }
 ],
 "metadata": {
  "kernelspec": {
   "display_name": "Python 3 (ipykernel)",
   "language": "python",
   "name": "python3"
  },
  "language_info": {
   "codemirror_mode": {
    "name": "ipython",
    "version": 3
   },
   "file_extension": ".py",
   "mimetype": "text/x-python",
   "name": "python",
   "nbconvert_exporter": "python",
   "pygments_lexer": "ipython3",
   "version": "3.10.2"
  }
 },
 "nbformat": 4,
 "nbformat_minor": 5
}
