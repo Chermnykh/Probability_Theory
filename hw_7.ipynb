{
 "cells": [
  {
   "cell_type": "markdown",
   "id": "8e706c2b",
   "metadata": {},
   "source": [
    "# Теория вероятностей и математическая статистика\n",
    "## Урок 7. Непараметрические тесты"
   ]
  },
  {
   "cell_type": "code",
   "execution_count": 1,
   "id": "2de660a6",
   "metadata": {},
   "outputs": [],
   "source": [
    "import numpy as np\n",
    "import scipy.stats as stats"
   ]
  },
  {
   "cell_type": "markdown",
   "id": "c1fedc67",
   "metadata": {},
   "source": [
    "**Задача 1**  \n",
    "Даны две  независимые выборки. Не соблюдается условие нормальности\n",
    "\n",
    "x1  380,420, 290\n",
    "\n",
    "y1 140,360,200,900\n",
    "\n",
    "Сделайте вывод по результатам, полученным с помощью функции"
   ]
  },
  {
   "cell_type": "code",
   "execution_count": 2,
   "id": "a88172fe",
   "metadata": {},
   "outputs": [
    {
     "data": {
      "text/plain": [
       "MannwhitneyuResult(statistic=8.0, pvalue=0.6285714285714286)"
      ]
     },
     "execution_count": 2,
     "metadata": {},
     "output_type": "execute_result"
    }
   ],
   "source": [
    "# Критерий Манна Уитни, так как 2 выборки и они независимые\n",
    "x_1 = np.array([380,420, 290])\n",
    "y_1 = np.array([140,360,200,900])\n",
    "\n",
    "stats.mannwhitneyu(x_1, y_1)"
   ]
  },
  {
   "cell_type": "markdown",
   "id": "43d0fa51",
   "metadata": {},
   "source": [
    "---------------------"
   ]
  },
  {
   "cell_type": "markdown",
   "id": "bf4a1db4",
   "metadata": {},
   "source": [
    "**Ответ:**  \n",
    "pvalue = 0.63, при α = 0.05 мы принимаем нулевую гипотезу (статистически значимых различий нет)"
   ]
  },
  {
   "cell_type": "markdown",
   "id": "b5641a11",
   "metadata": {},
   "source": [
    "----------------"
   ]
  },
  {
   "cell_type": "markdown",
   "id": "1393ae08",
   "metadata": {},
   "source": [
    "**Задача 2**  \n",
    "Исследовалось влияние препарата на уровень давления пациентов. Сначала измерялось давление до приема препарата, потом через 10 минут и через 30 минут. Есть ли статистически значимые различия?\n",
    "\n",
    "1е измерение до приема препарата: 150, 160, 165, 145, 155\n",
    "\n",
    "2е измерение через 10 минут: 140, 155, 150,  130, 135\n",
    "\n",
    "3е измерение через 30 минут: 130, 130, 120, 130, 125"
   ]
  },
  {
   "cell_type": "code",
   "execution_count": 3,
   "id": "e3087b87",
   "metadata": {},
   "outputs": [
    {
     "data": {
      "text/plain": [
       "FriedmanchisquareResult(statistic=9.578947368421062, pvalue=0.00831683351100441)"
      ]
     },
     "execution_count": 3,
     "metadata": {},
     "output_type": "execute_result"
    }
   ],
   "source": [
    "# Критерий Фридмана, так как 3 выборки и они зависимые\n",
    "before = np.array([150, 160, 165, 145, 155])\n",
    "after_10 = np.array([140, 155, 150, 130, 135])\n",
    "after_30 = np.array([130, 130, 120, 130, 125])\n",
    "\n",
    "stats.friedmanchisquare(before, after_10, after_30)"
   ]
  },
  {
   "cell_type": "markdown",
   "id": "b845819a",
   "metadata": {},
   "source": [
    "----------------"
   ]
  },
  {
   "cell_type": "markdown",
   "id": "25f8ea5a",
   "metadata": {},
   "source": [
    "**Ответ:**  \n",
    "pvalue=0.008, при α = 0.05 мы принимаем альтернативную гипотезу (статистически значимые различия есть)"
   ]
  },
  {
   "cell_type": "markdown",
   "id": "ec9b2bde",
   "metadata": {},
   "source": [
    "----------------"
   ]
  },
  {
   "cell_type": "markdown",
   "id": "2dd00ade",
   "metadata": {},
   "source": [
    "**Задача 3**  \n",
    "Сравните 1 и 2 е измерения, предполагая, что 3го измерения через 30 минут не было."
   ]
  },
  {
   "cell_type": "code",
   "execution_count": 4,
   "id": "41b56323",
   "metadata": {},
   "outputs": [
    {
     "data": {
      "text/plain": [
       "WilcoxonResult(statistic=0.0, pvalue=0.0625)"
      ]
     },
     "execution_count": 4,
     "metadata": {},
     "output_type": "execute_result"
    }
   ],
   "source": [
    "# Критерий Уилкоксона, так как 2 выборки и они зависимые\n",
    "stats.wilcoxon(before, after_10)"
   ]
  },
  {
   "cell_type": "markdown",
   "id": "3d9191b0",
   "metadata": {},
   "source": [
    "---------------------"
   ]
  },
  {
   "cell_type": "markdown",
   "id": "15ac1b8d",
   "metadata": {},
   "source": [
    "**Ответ:**  \n",
    "pvalue = 0.06, при α = 0.05 мы принимаем нулевую гипотезу (статистически значимых различий нет)"
   ]
  },
  {
   "cell_type": "markdown",
   "id": "78cd1672",
   "metadata": {},
   "source": [
    "----------------"
   ]
  },
  {
   "cell_type": "markdown",
   "id": "01a25eab",
   "metadata": {},
   "source": [
    "**Задача 4**  \n",
    "Даны 3 группы  учеников плавания.\n",
    "\n",
    "В 1 группе время на дистанцию 50 м составляют: 56, 60, 62, 55, 71, 67, 59, 58, 64, 67\n",
    "\n",
    "Вторая группа : 57, 58, 69, 48, 72, 70, 68, 71, 50, 53\n",
    "\n",
    "Третья группа: 57, 67, 49, 48, 47, 55, 66, 51, 54"
   ]
  },
  {
   "cell_type": "code",
   "execution_count": 5,
   "id": "58ddf3ba",
   "metadata": {},
   "outputs": [
    {
     "data": {
      "text/plain": [
       "KruskalResult(statistic=5.465564058257224, pvalue=0.0650380998590494)"
      ]
     },
     "execution_count": 5,
     "metadata": {},
     "output_type": "execute_result"
    }
   ],
   "source": [
    "# Критерий Крускала-Уоллиса, так как 3 выборки и они независимые\n",
    "group_1 = np.array([56, 60, 62, 55, 71, 67, 59, 58, 64, 67])\n",
    "group_2 = np.array([57, 58, 69, 48, 72, 70, 68, 71, 50, 53])\n",
    "group_3 = np.array([57, 67, 49, 48, 47, 55, 66, 51, 54])\n",
    "\n",
    "stats.kruskal(group_1, group_2, group_3)"
   ]
  },
  {
   "cell_type": "markdown",
   "id": "37843a62",
   "metadata": {},
   "source": [
    "------------------"
   ]
  },
  {
   "cell_type": "markdown",
   "id": "80ad9ad8",
   "metadata": {},
   "source": [
    "**Ответ:**  \n",
    "pvalue = 0.07, при α = 0.05 мы принимаем нулевую гипотезу (статистически значимых различий нет)"
   ]
  },
  {
   "cell_type": "markdown",
   "id": "bb39c05f",
   "metadata": {},
   "source": [
    "------------------------"
   ]
  },
  {
   "cell_type": "markdown",
   "id": "9c82e689",
   "metadata": {},
   "source": [
    "**Задача 5**  \n",
    "Заявляется, что партия изготавливается со средним арифметическим 2,5 см. Проверить данную гипотезу, если известно, что размеры изделий подчинены нормальному закону распределения. Объем выборки 10, уровень статистической значимости 5%\n",
    "\n",
    "2.51, 2.35, 2.74, 2.56, 2.40, 2.36, 2.65, 2.7, 2.67, 2.34"
   ]
  },
  {
   "cell_type": "markdown",
   "id": "945569fd",
   "metadata": {},
   "source": [
    "H0: mu = mu0 = 2.5    \n",
    "H1: mu != mu"
   ]
  },
  {
   "cell_type": "code",
   "execution_count": 6,
   "id": "d8a378c6",
   "metadata": {},
   "outputs": [
    {
     "name": "stdout",
     "output_type": "stream",
     "text": [
      "3.2498355440153697 0.5630613661802959\n",
      "Результат: мы принимаем нулевую гипотезу о том, что размер не отличается\n"
     ]
    }
   ],
   "source": [
    "mu = 2.5\n",
    "x = np.array([2.51, 2.35, 2.74, 2.56, 2.40, 2.36, 2.65, 2.7, 2.67, 2.34])\n",
    "average = np.mean(x)\n",
    "σ = np.std(x, ddof=1)\n",
    "n = 10\n",
    "tt = stats.t.ppf(0.995, n - 1)\n",
    "tn = (average - mu) / (σ / np.sqrt(n))\n",
    "print(tt, tn)\n",
    "if np.abs(tn) < tt: \n",
    "    print('Результат: мы принимаем нулевую гипотезу о том, что размер не отличается')\n",
    "else: \n",
    "    print('Результат: мы принимаем альтернативную гипотезу о том, что размер отличается')"
   ]
  }
 ],
 "metadata": {
  "kernelspec": {
   "display_name": "Python 3 (ipykernel)",
   "language": "python",
   "name": "python3"
  },
  "language_info": {
   "codemirror_mode": {
    "name": "ipython",
    "version": 3
   },
   "file_extension": ".py",
   "mimetype": "text/x-python",
   "name": "python",
   "nbconvert_exporter": "python",
   "pygments_lexer": "ipython3",
   "version": "3.10.2"
  }
 },
 "nbformat": 4,
 "nbformat_minor": 5
}
