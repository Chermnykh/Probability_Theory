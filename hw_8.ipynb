{
 "cells": [
  {
   "cell_type": "markdown",
   "id": "3c9b3031",
   "metadata": {},
   "source": [
    "# Теория вероятностей и математическая статистика\n",
    "## Урок 8. Корреляционный анализ"
   ]
  },
  {
   "cell_type": "code",
   "execution_count": 1,
   "id": "635b8162",
   "metadata": {},
   "outputs": [],
   "source": [
    "import numpy as np\n",
    "import pandas as pd\n",
    "from scipy import stats"
   ]
  },
  {
   "cell_type": "markdown",
   "id": "77888209",
   "metadata": {},
   "source": [
    "**Задача 1**  \n",
    "Даны значения величины заработной платы заемщиков банка (zp) и значения их поведенческого кредитного скоринга (ks):\n",
    "\n",
    "zp = [35, 45, 190, 200, 40, 70, 54, 150, 120, 110],\n",
    "\n",
    "ks = [401, 574, 874, 919, 459, 739, 653, 902, 746, 832].\n",
    "\n",
    "Найдите ковариацию этих двух величин с помощью элементарных действий, а затем с помощью функции cov из numpy\n",
    "\n",
    "Полученные значения должны быть равны.\n",
    "\n",
    "Найдите коэффициент корреляции Пирсона с помощью ковариации и среднеквадратичных отклонений двух признаков, а затем с использованием функций из библиотек numpy и pandas."
   ]
  },
  {
   "cell_type": "code",
   "execution_count": 2,
   "id": "e1be437d",
   "metadata": {},
   "outputs": [],
   "source": [
    "zp = np.array([35, 45, 190, 200, 40, 70, 54, 150, 120, 110])\n",
    "\n",
    "ks = np.array([401, 574, 874, 919, 459, 739, 653, 902, 746, 832])"
   ]
  },
  {
   "cell_type": "code",
   "execution_count": 3,
   "id": "a391c14f",
   "metadata": {},
   "outputs": [
    {
     "name": "stdout",
     "output_type": "stream",
     "text": [
      "Несмещенная ковариация:  9157.84\n",
      "Смещенная ковариация:  10175.38\n"
     ]
    }
   ],
   "source": [
    "# Несмещенная ковариация по формуле\n",
    "cov = np.mean(zp*ks) - np.mean(zp) * np.mean(ks)\n",
    "print(\"Несмещенная ковариация: \", round(cov, 2))\n",
    "\n",
    "# Смещенная ковариация по формуле\n",
    "cov_s = ((zp - zp.mean()) * (ks - ks.mean())).sum() / (zp.shape[0] - 1)\n",
    "print(\"Смещенная ковариация: \", round(cov_s, 2))"
   ]
  },
  {
   "cell_type": "code",
   "execution_count": 4,
   "id": "b5c09870",
   "metadata": {},
   "outputs": [
    {
     "name": "stdout",
     "output_type": "stream",
     "text": [
      "[[ 3494.64  9157.84]\n",
      " [ 9157.84 30468.89]]\n",
      "[[ 3882.93333333 10175.37777778]\n",
      " [10175.37777778 33854.32222222]]\n"
     ]
    }
   ],
   "source": [
    "# Несмещенная ковариация с помощью функции\n",
    "print(np.cov(zp, ks, ddof = 0))\n",
    "\n",
    "# Смещенная ковариация с помощью функции\n",
    "print(np.cov(zp, ks))"
   ]
  },
  {
   "cell_type": "code",
   "execution_count": 5,
   "id": "094b7968",
   "metadata": {},
   "outputs": [
    {
     "data": {
      "text/plain": [
       "0.8874900920739158"
      ]
     },
     "execution_count": 5,
     "metadata": {},
     "output_type": "execute_result"
    }
   ],
   "source": [
    "# Коэффициент корреляции Пирсона по формуле \n",
    "zp_std = np.std(zp, ddof = 0)\n",
    "ks_std = np.std(ks, ddof = 0)\n",
    "\n",
    "coef_p = cov / (zp_std * ks_std)\n",
    "coef_p"
   ]
  },
  {
   "cell_type": "code",
   "execution_count": 6,
   "id": "3b821990",
   "metadata": {},
   "outputs": [
    {
     "data": {
      "text/plain": [
       "array([[1.        , 0.88749009],\n",
       "       [0.88749009, 1.        ]])"
      ]
     },
     "execution_count": 6,
     "metadata": {},
     "output_type": "execute_result"
    }
   ],
   "source": [
    "# Коэффициент корреляции Пирсона с помощью функции из библиотеки numpy\n",
    "np.corrcoef(zp, ks)"
   ]
  },
  {
   "cell_type": "code",
   "execution_count": 7,
   "id": "65e419ee",
   "metadata": {},
   "outputs": [
    {
     "data": {
      "text/html": [
       "<div>\n",
       "<style scoped>\n",
       "    .dataframe tbody tr th:only-of-type {\n",
       "        vertical-align: middle;\n",
       "    }\n",
       "\n",
       "    .dataframe tbody tr th {\n",
       "        vertical-align: top;\n",
       "    }\n",
       "\n",
       "    .dataframe thead th {\n",
       "        text-align: right;\n",
       "    }\n",
       "</style>\n",
       "<table border=\"1\" class=\"dataframe\">\n",
       "  <thead>\n",
       "    <tr style=\"text-align: right;\">\n",
       "      <th></th>\n",
       "      <th>Salary</th>\n",
       "      <th>Scoring</th>\n",
       "    </tr>\n",
       "  </thead>\n",
       "  <tbody>\n",
       "    <tr>\n",
       "      <th>Salary</th>\n",
       "      <td>1.00000</td>\n",
       "      <td>0.88749</td>\n",
       "    </tr>\n",
       "    <tr>\n",
       "      <th>Scoring</th>\n",
       "      <td>0.88749</td>\n",
       "      <td>1.00000</td>\n",
       "    </tr>\n",
       "  </tbody>\n",
       "</table>\n",
       "</div>"
      ],
      "text/plain": [
       "          Salary  Scoring\n",
       "Salary   1.00000  0.88749\n",
       "Scoring  0.88749  1.00000"
      ]
     },
     "execution_count": 7,
     "metadata": {},
     "output_type": "execute_result"
    }
   ],
   "source": [
    "# Коэффициент корреляции Пирсона с помощью функции из библиотеки pandas\n",
    "df = pd.DataFrame({'Salary': zp, 'Scoring': ks})\n",
    "df[['Salary', 'Scoring']].corr()"
   ]
  },
  {
   "cell_type": "markdown",
   "id": "a138dc4e",
   "metadata": {},
   "source": [
    "---------------------------\n",
    "**Ответ:**  \n",
    "*Ковариация двух величин* = 9157.84  \n",
    "*Коэффициент корреляции Пирсона* = 0.89\n",
    "\n",
    "---------------------------"
   ]
  },
  {
   "cell_type": "markdown",
   "id": "df9132b2",
   "metadata": {},
   "source": [
    "**Задача 2**  \n",
    "Измерены значения IQ выборки студентов,\n",
    "\n",
    "обучающихся в местных технических вузах:\n",
    "\n",
    "131, 125, 115, 122, 131, 115, 107, 99, 125, 111.\n",
    "\n",
    "Известно, что в генеральной совокупности IQ распределен нормально.\n",
    "\n",
    "Найдите доверительный интервал для математического ожидания с надежностью 0.95."
   ]
  },
  {
   "attachments": {
    "image.png": {
     "image/png": "[encoded data removed]"
    }
   },
   "cell_type": "markdown",
   "id": "88afb988",
   "metadata": {},
   "source": [
    "![image.png](attachment:image.png)"
   ]
  },
  {
   "cell_type": "code",
   "execution_count": 8,
   "id": "7a9655bc",
   "metadata": {},
   "outputs": [],
   "source": [
    "stud_iq = np.array([131, 125, 115, 122, 131, 115, 107, 99, 125, 111])"
   ]
  },
  {
   "cell_type": "code",
   "execution_count": 9,
   "id": "fe1569f1",
   "metadata": {},
   "outputs": [],
   "source": [
    "# Среднее арифметическое \n",
    "avg = np.mean(stud_iq)\n",
    "\n",
    "# Несмещенная дисперсия\n",
    "D = np.var(stud_iq, ddof=1)\n",
    "\n",
    "# Критерий Стьюдента\n",
    "t_2 = stats.t.ppf(0.975, (len(stud_iq)-1))"
   ]
  },
  {
   "cell_type": "code",
   "execution_count": 10,
   "id": "8e265157",
   "metadata": {},
   "outputs": [
    {
     "name": "stdout",
     "output_type": "stream",
     "text": [
      "Нижняя граница интервала = 110.56\n",
      "Верхняя граница интервала = 125.64\n"
     ]
    }
   ],
   "source": [
    "# Нижняя граница интервала\n",
    "L_2 = avg - t_2 * np.sqrt(D/len(stud_iq))\n",
    "print(f'Нижняя граница интервала = {round(L_2, 2)}')\n",
    "\n",
    "# Верхняя граница интервала\n",
    "U_2 = avg + t_2 * np.sqrt(D/len(stud_iq))\n",
    "print(f'Верхняя граница интервала = {round(U_2, 2)}')"
   ]
  },
  {
   "cell_type": "markdown",
   "id": "c7c5a22a",
   "metadata": {},
   "source": [
    "------------------\n",
    "**Ответ:**  \n",
    "*Нижняя граница интервала*= 110.56  \n",
    "*Верхняя граница интервала* = 125.64\n",
    "\n",
    "----------------"
   ]
  },
  {
   "cell_type": "markdown",
   "id": "8996abea",
   "metadata": {},
   "source": [
    "**Задача 3**  \n",
    "Известно, что рост футболистов в сборной распределен нормально с дисперсией генеральной совокупности, равной 25 кв.см. Объем выборки равен 27, среднее выборочное составляет 174.2. Найдите доверительный интервал для математического ожидания с надежностью 0.95."
   ]
  },
  {
   "attachments": {
    "image.png": {
     "image/png": "[encoded data removed]"
    }
   },
   "cell_type": "markdown",
   "id": "5c07d349",
   "metadata": {},
   "source": [
    "![image.png](attachment:image.png)"
   ]
  },
  {
   "cell_type": "code",
   "execution_count": 11,
   "id": "050cae03",
   "metadata": {},
   "outputs": [
    {
     "name": "stdout",
     "output_type": "stream",
     "text": [
      "Нижняя граница интервала = 172.31\n",
      "Верхняя граница интервала = 176.09\n"
     ]
    }
   ],
   "source": [
    "x = 174.2\n",
    "z = 1.96\n",
    "σ = 5\n",
    "n = 27\n",
    "\n",
    "# Нижняя граница интервала\n",
    "L_1 = x - z * σ / np.sqrt(n)\n",
    "print(f'Нижняя граница интервала = {round(L_1, 2)}')\n",
    "\n",
    "# Верхняя граница интервала\n",
    "U_1 = x + z * σ / np.sqrt(n)\n",
    "print(f'Верхняя граница интервала = {round(U_1, 2)}')"
   ]
  },
  {
   "cell_type": "markdown",
   "id": "695b6fdf",
   "metadata": {},
   "source": [
    "------------------------------\n",
    "**Ответ:**  \n",
    "*Нижняя граница интервала* = 172.31  \n",
    "*Верхняя граница интервала* = 176.09\n",
    "\n",
    "------------------------------"
   ]
  }
 ],
 "metadata": {
  "kernelspec": {
   "display_name": "Python 3 (ipykernel)",
   "language": "python",
   "name": "python3"
  },
  "language_info": {
   "codemirror_mode": {
    "name": "ipython",
    "version": 3
   },
   "file_extension": ".py",
   "mimetype": "text/x-python",
   "name": "python",
   "nbconvert_exporter": "python",
   "pygments_lexer": "ipython3",
   "version": "3.10.2"
  }
 },
 "nbformat": 4,
 "nbformat_minor": 5
}
