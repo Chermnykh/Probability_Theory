{
 "cells": [
  {
   "cell_type": "markdown",
   "id": "7818d5df",
   "metadata": {},
   "source": [
    "# Теория вероятностей и математическая статистика\n",
    "## Урок 5. Тестирование гипотез"
   ]
  },
  {
   "cell_type": "code",
   "execution_count": 1,
   "id": "0ec9e0af",
   "metadata": {},
   "outputs": [],
   "source": [
    "import numpy as np\n",
    "import scipy.stats as stats"
   ]
  },
  {
   "attachments": {},
   "cell_type": "markdown",
   "id": "98619e8a",
   "metadata": {},
   "source": [
    "**Задача1**  \n",
    "Когда используется критерий Стьюдента, а когда Z –критерий?  \n",
    "\n",
    "Z-критерий используется, когда известна 𝞼 генеральной совокупности  \n",
    "Критерий Стьюдента - когда  𝞼 генеральной совокупности неизвестна"
   ]
  },
  {
   "cell_type": "markdown",
   "id": "faa7c643",
   "metadata": {},
   "source": [
    "**Задача 2**  \n",
    "Проведите тест гипотезы. Утверждается, что шарики для подшипников, изготовленные автоматическим станком, имеют средний диаметр 17 мм.\n",
    "Используя односторонний критерий с α=0,05, проверить эту гипотезу, если в выборке из n=100 шариков средний диаметр оказался равным 17.5 мм, а дисперсия известна и равна 4 кв. мм."
   ]
  },
  {
   "attachments": {
    "image.png": {
     "image/png": "[encoded data removed]"
    }
   },
   "cell_type": "markdown",
   "id": "15960ff0",
   "metadata": {},
   "source": [
    "![image.png](attachment:image.png)\n"
   ]
  },
  {
   "cell_type": "markdown",
   "id": "a3c8920a",
   "metadata": {},
   "source": [
    "H0: mu = mu0 = 17  \n",
    "H1: mu > mu"
   ]
  },
  {
   "cell_type": "code",
   "execution_count": 2,
   "id": "9c4b262b",
   "metadata": {},
   "outputs": [
    {
     "name": "stdout",
     "output_type": "stream",
     "text": [
      "Наблюдаемый Z критерий: 2.5\n",
      "Табличный Z критерий: 1.645\n",
      "Результат: мы принимаем альтернативную гипотезу о том, что диаметр отличается\n"
     ]
    }
   ],
   "source": [
    "mu = 17\n",
    "n = 100\n",
    "average = 17.5\n",
    "σ = 2\n",
    "α=0.05\n",
    "z_n = (average-mu)/(σ/np.sqrt(n))\n",
    "print(f'Наблюдаемый Z критерий: {round(z_n,3)}')\n",
    "z_t = stats.norm.ppf(0.95)\n",
    "print(f'Табличный Z критерий: {round(z_t,3)}')\n",
    "if z_t>z_n: \n",
    "    print('Результат: мы принимаем нулевую гипотезу о том, что диаметр не отличается')\n",
    "else: \n",
    "    print('Результат: мы принимаем альтернативную гипотезу о том, что диаметр отличается')"
   ]
  },
  {
   "cell_type": "markdown",
   "id": "5eeb479d",
   "metadata": {},
   "source": [
    "**Задача 3**  \n",
    "Проведите тест гипотезы. Продавец утверждает, что средний вес пачки печенья составляет 200 г.\n",
    "\n",
    "Из партии извлечена выборка из 10 пачек. Вес каждой пачки составляет:\n",
    "\n",
    "202, 203, 199, 197, 195, 201, 200, 204, 194, 190.\n",
    "\n",
    "Известно, что их веса распределены нормально.\n",
    "\n",
    "Верно ли утверждение продавца, если учитывать, что доверительная вероятность равна 99%? (Провести двусторонний тест.)"
   ]
  },
  {
   "attachments": {
    "image.png": {
     "image/png": "[encoded data removed]"
    }
   },
   "cell_type": "markdown",
   "id": "e932c13f",
   "metadata": {},
   "source": [
    "![image.png](attachment:image.png)"
   ]
  },
  {
   "cell_type": "markdown",
   "id": "43171293",
   "metadata": {},
   "source": [
    "H0: mu = mu0 = 200  \n",
    "H1: mu != mu "
   ]
  },
  {
   "cell_type": "code",
   "execution_count": 3,
   "id": "3eec405b",
   "metadata": {},
   "outputs": [
    {
     "name": "stdout",
     "output_type": "stream",
     "text": [
      "3.2498355440153697 -1.0651074037450896\n",
      "Результат: мы принимаем нулевую гипотезу о том, что вес не отличается\n"
     ]
    }
   ],
   "source": [
    "mu = 200\n",
    "x = np.array([202, 203, 199, 197, 195, 201, 200, 204, 194, 190])\n",
    "average = np.mean(x)\n",
    "σ = np.std(x, ddof=1)\n",
    "n = len(x)\n",
    "tt = stats.t.ppf(0.995, n - 1)\n",
    "tn = (average - mu) / (σ / np.sqrt(n))\n",
    "print(tt, tn)\n",
    "if np.abs(tn) < tt: \n",
    "    print('Результат: мы принимаем нулевую гипотезу о том, что вес не отличается')\n",
    "else: \n",
    "    print('Результат: мы принимаем альтернативную гипотезу о том, что вес отличается')"
   ]
  },
  {
   "cell_type": "markdown",
   "id": "98ef5a72",
   "metadata": {},
   "source": [
    "**Задача 4**  \n",
    "Есть ли статистически значимые различия в росте дочерей?\n",
    "\n",
    "Рост матерей 172, 177, 158, 170, 178,175, 164, 160, 169\n",
    "\n",
    "Рост взрослых дочерей: 173, 175, 162, 174, 175, 168, 155, 170, 160"
   ]
  },
  {
   "cell_type": "code",
   "execution_count": 4,
   "id": "34bae84d",
   "metadata": {},
   "outputs": [
    {
     "name": "stdout",
     "output_type": "stream",
     "text": [
      "Ttest_relResult(statistic=0.664847853143198, pvalue=0.5228168632983574)\n",
      "Подтверждаем нулевую гипотезу о том, что статистически значимых различий нет\n"
     ]
    }
   ],
   "source": [
    "x1 = np.array([172, 177, 158, 170, 178, 175, 164, 160, 169, 165])\n",
    "x2 = np.array([173, 175, 162, 174, 175, 168, 155, 170, 160, 163])\n",
    "a = 0.05\n",
    "_, p = stats.ttest_rel(x1, x2)\n",
    "print(stats.ttest_rel(x1, x2))\n",
    "if p > a:\n",
    "    print('Подтверждаем нулевую гипотезу о том, что статистически значимых различий нет')\n",
    "else:\n",
    "    print('Подтверждаем альтернативную гипотезу о том, что статистически значимые различия есть')"
   ]
  }
 ],
 "metadata": {
  "kernelspec": {
   "display_name": "Python 3 (ipykernel)",
   "language": "python",
   "name": "python3"
  },
  "language_info": {
   "codemirror_mode": {
    "name": "ipython",
    "version": 3
   },
   "file_extension": ".py",
   "mimetype": "text/x-python",
   "name": "python",
   "nbconvert_exporter": "python",
   "pygments_lexer": "ipython3",
   "version": "3.10.2"
  }
 },
 "nbformat": 4,
 "nbformat_minor": 5
}
