{
 "cells": [
  {
   "cell_type": "markdown",
   "id": "8e901344",
   "metadata": {},
   "source": [
    "# Теория вероятностей и математическая статистика\n",
    "## Урок 6. Сравнение долей. Построение доверительного интервала"
   ]
  },
  {
   "cell_type": "code",
   "execution_count": 1,
   "id": "894946e5",
   "metadata": {},
   "outputs": [],
   "source": [
    "import numpy as np\n",
    "import scipy.stats as stats"
   ]
  },
  {
   "cell_type": "markdown",
   "id": "5ce4654d",
   "metadata": {},
   "source": [
    "**Задача 1**  \n",
    "Известно, что генеральная совокупность распределена нормально со средним квадратическим отклонением, равным 16.\n",
    "Найти доверительный интервал для оценки математического ожидания a с надежностью 0.95, если выборочная средняя M = 80, а объем выборки n = 256."
   ]
  },
  {
   "attachments": {
    "image.png": {
     "image/png": "[encoded data removed]"
    }
   },
   "cell_type": "markdown",
   "id": "a3542cc9",
   "metadata": {},
   "source": [
    "![image.png](attachment:image.png)"
   ]
  },
  {
   "cell_type": "code",
   "execution_count": 2,
   "id": "3734e74d",
   "metadata": {},
   "outputs": [
    {
     "name": "stdout",
     "output_type": "stream",
     "text": [
      "Нижняя граница интервала = 78.04\n",
      "Верхняя граница интервала = 81.96\n"
     ]
    }
   ],
   "source": [
    "x = 80\n",
    "z = 1.96\n",
    "σ = 16\n",
    "n = 256\n",
    "\n",
    "# Нижняя граница интервала\n",
    "L_1 = x - z * σ / np.sqrt(n)\n",
    "print(f'Нижняя граница интервала = {L_1}')\n",
    "\n",
    "# Верхняя граница интервала\n",
    "U_1 = x + z * σ / np.sqrt(n)\n",
    "print(f'Верхняя граница интервала = {U_1}')"
   ]
  },
  {
   "cell_type": "markdown",
   "id": "dd8ef678",
   "metadata": {},
   "source": [
    "--------------------------"
   ]
  },
  {
   "cell_type": "markdown",
   "id": "87264dc1",
   "metadata": {},
   "source": [
    "**Ответ:**  \n",
    "*Нижняя граница интервала* = 78.04  \n",
    "*Верхняя граница интервала* = 81.96"
   ]
  },
  {
   "cell_type": "markdown",
   "id": "819c86df",
   "metadata": {},
   "source": [
    "--------------------------"
   ]
  },
  {
   "cell_type": "markdown",
   "id": "bfd9a0e8",
   "metadata": {},
   "source": [
    "**Задача 2**  \n",
    "В результате 10 независимых измерений некоторой величины X, выполненных с одинаковой точностью, получены опытные данные:  \n",
    "6.9, 6.1, 6.2, 6.8, 7.5, 6.3, 6.4, 6.9, 6.7, 6.1  \n",
    "Предполагая, что результаты измерений подчинены нормальному закону распределения вероятностей, оценить истинное значение величины X при помощи доверительного интервала, покрывающего это значение с доверительной вероятностью 0,95."
   ]
  },
  {
   "attachments": {
    "image.png": {
     "image/png": "[encoded data removed]"
    }
   },
   "cell_type": "markdown",
   "id": "5f762db7",
   "metadata": {},
   "source": [
    "![image.png](attachment:image.png)"
   ]
  },
  {
   "cell_type": "code",
   "execution_count": 3,
   "id": "54475def",
   "metadata": {},
   "outputs": [],
   "source": [
    "data = np.array([6.9, 6.1, 6.2, 6.8, 7.5, 6.3, 6.4, 6.9, 6.7, 6.1])"
   ]
  },
  {
   "cell_type": "code",
   "execution_count": 4,
   "id": "8deb756f",
   "metadata": {},
   "outputs": [],
   "source": [
    "# Среднее арифметическое \n",
    "avg = np.mean(data)\n",
    "\n",
    "# Несмещенная дисперсия\n",
    "D = np.var(data, ddof=1)\n",
    "\n",
    "# Критерий Стьюдента\n",
    "t_2 = stats.t.ppf(0.975, (len(data)-1))"
   ]
  },
  {
   "cell_type": "code",
   "execution_count": 5,
   "id": "17ea15bd",
   "metadata": {},
   "outputs": [
    {
     "name": "stdout",
     "output_type": "stream",
     "text": [
      "Нижняя граница интервала = 6.27\n",
      "Верхняя граница интервала = 6.91\n"
     ]
    }
   ],
   "source": [
    "# Нижняя граница интервала\n",
    "L_2 = avg - t_2 * np.sqrt(D/len(data))\n",
    "print(f'Нижняя граница интервала = {round(L_2, 2)}')\n",
    "\n",
    "# Верхняя граница интервала\n",
    "U_2 = avg + t_2 * np.sqrt(D/len(data))\n",
    "print(f'Верхняя граница интервала = {round(U_2, 2)}')"
   ]
  },
  {
   "cell_type": "markdown",
   "id": "4681b26a",
   "metadata": {},
   "source": [
    "------------------"
   ]
  },
  {
   "cell_type": "markdown",
   "id": "90c24215",
   "metadata": {},
   "source": [
    "**Ответ:**  \n",
    "*Нижняя граница интервала* = 6.27  \n",
    "*Верхняя граница интервала* = 6.91"
   ]
  },
  {
   "cell_type": "markdown",
   "id": "5c90160f",
   "metadata": {},
   "source": [
    "---------------------------"
   ]
  },
  {
   "cell_type": "markdown",
   "id": "0e638ad0",
   "metadata": {},
   "source": [
    "**Задача 3**  \n",
    "Рост дочерей 175, 167, 154, 174, 178, 148, 160, 167, 169, 170  \n",
    "Рост матерей 178, 165, 165, 173, 168, 155, 160, 164, 178, 175  \n",
    "Используя эти данные построить 95% доверительный интервал для разности среднего роста родителей и детей."
   ]
  },
  {
   "attachments": {
    "image.png": {
     "image/png": "[encoded data removed]"
    }
   },
   "cell_type": "markdown",
   "id": "f258cfd7",
   "metadata": {},
   "source": [
    "![image.png](attachment:image.png)"
   ]
  },
  {
   "cell_type": "code",
   "execution_count": 6,
   "id": "1fc60202",
   "metadata": {},
   "outputs": [],
   "source": [
    "daughters = np.array([175, 167, 154, 174, 178, 148, 160, 167, 169, 170])\n",
    "mothers = np.array([178, 165, 165, 173, 168, 155, 160, 164, 178, 175])"
   ]
  },
  {
   "cell_type": "code",
   "execution_count": 7,
   "id": "8e68e486",
   "metadata": {},
   "outputs": [],
   "source": [
    "# Среднее арифметическое\n",
    "avg_d = np.mean(daughters)\n",
    "avg_m = np.mean(mothers)\n",
    "\n",
    "# РАЗНОСТЬ СРЕДНИХ\n",
    "delta = avg_m - avg_d\n",
    "\n",
    "# Несмещенная дисперсия\n",
    "D_d = np.var(daughters, ddof=1)\n",
    "D_m = np.var(mothers, ddof=1)\n",
    "\n",
    "# ОБЪЕДИНЕННАЯ ОЦЕНКА ДИСПЕРСИИ\n",
    "D = (D_d + D_m) / 2\n",
    "\n",
    "# СТАНДАРТНАЯ ОШИБКА РАЗНОСТИ СРЕДНЕГО\n",
    "SE = np.sqrt(D/len(daughters) + D/len(mothers))\n",
    "\n",
    "# КРИТЕРИЙ СТЬЮДЕНТА\n",
    "t_3 = stats.t.ppf(0.975, (2*(len(daughters)-1)))"
   ]
  },
  {
   "cell_type": "code",
   "execution_count": 8,
   "id": "ce517ee2",
   "metadata": {},
   "outputs": [
    {
     "name": "stdout",
     "output_type": "stream",
     "text": [
      "Нижняя граница интервала = -6.27\n",
      "Верхняя граница интервала = 10.07\n"
     ]
    }
   ],
   "source": [
    "# Нижняя граница интервала\n",
    "L_3 = delta - t_3 * SE\n",
    "print(f'Нижняя граница интервала = {round(L_3, 2)}')\n",
    "\n",
    "# Верхняя граница интервала\n",
    "U_3 = delta + t_3 * SE\n",
    "print(f'Верхняя граница интервала = {round(U_3, 2)}')"
   ]
  },
  {
   "cell_type": "markdown",
   "id": "f9ea8761",
   "metadata": {},
   "source": [
    "-----------------"
   ]
  },
  {
   "cell_type": "markdown",
   "id": "35e13c17",
   "metadata": {},
   "source": [
    "**Ответ:**  \n",
    "*Нижняя граница интервала* = -6.27  \n",
    "*Верхняя граница интервала* = 10.07"
   ]
  },
  {
   "cell_type": "markdown",
   "id": "e66a573a",
   "metadata": {},
   "source": [
    "-------------------------------"
   ]
  }
 ],
 "metadata": {
  "kernelspec": {
   "display_name": "Python 3 (ipykernel)",
   "language": "python",
   "name": "python3"
  },
  "language_info": {
   "codemirror_mode": {
    "name": "ipython",
    "version": 3
   },
   "file_extension": ".py",
   "mimetype": "text/x-python",
   "name": "python",
   "nbconvert_exporter": "python",
   "pygments_lexer": "ipython3",
   "version": "3.10.2"
  }
 },
 "nbformat": 4,
 "nbformat_minor": 5
}
