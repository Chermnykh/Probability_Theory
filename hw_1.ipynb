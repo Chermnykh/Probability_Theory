{
 "cells": [
  {
   "cell_type": "markdown",
   "id": "7086d073",
   "metadata": {},
   "source": [
    "# Теория вероятностей и математическая статистика\n",
    "## Урок 1. Расчет вероятности случайных событий"
   ]
  },
  {
   "cell_type": "code",
   "execution_count": 1,
   "id": "38dd48e3",
   "metadata": {},
   "outputs": [],
   "source": [
    "import numpy as np\n",
    "from math import factorial"
   ]
  },
  {
   "cell_type": "markdown",
   "id": "28e88c40",
   "metadata": {},
   "source": [
    "**Формула сочетания**"
   ]
  },
  {
   "cell_type": "code",
   "execution_count": 2,
   "id": "ba349221",
   "metadata": {},
   "outputs": [],
   "source": [
    "def combinations(n, k):\n",
    "    return np.math.factorial(n) / (np.math.factorial(k) * np.math.factorial(n - k))"
   ]
  },
  {
   "cell_type": "markdown",
   "id": "43ab875a",
   "metadata": {},
   "source": [
    "**Задача 1**                                                                                                \n",
    "Из колоды в 52 карты извлекаются случайным образом 4 карты.                                                        \n",
    "a) Найти вероятность того, что все карты – крести.                                                        \n",
    "б) Найти вероятность, что среди 4-х карт окажется хотя бы один туз."
   ]
  },
  {
   "cell_type": "code",
   "execution_count": 3,
   "id": "97c7bd95",
   "metadata": {},
   "outputs": [
    {
     "data": {
      "text/plain": [
       "270725.0"
      ]
     },
     "execution_count": 3,
     "metadata": {},
     "output_type": "execute_result"
    }
   ],
   "source": [
    "# Общее число исходов\n",
    "general_comb_1 = combinations(52, 4)\n",
    "general_comb_1"
   ]
  },
  {
   "cell_type": "code",
   "execution_count": 4,
   "id": "0f7c6a4f",
   "metadata": {},
   "outputs": [
    {
     "data": {
      "text/plain": [
       "715.0"
      ]
     },
     "execution_count": 4,
     "metadata": {},
     "output_type": "execute_result"
    }
   ],
   "source": [
    "# Количество благоприятных исходов (4 карты крести)\n",
    "clubs = combinations(13, 4)\n",
    "clubs"
   ]
  },
  {
   "cell_type": "code",
   "execution_count": 5,
   "id": "00dda116",
   "metadata": {},
   "outputs": [
    {
     "data": {
      "text/plain": [
       "0.0026"
      ]
     },
     "execution_count": 5,
     "metadata": {},
     "output_type": "execute_result"
    }
   ],
   "source": [
    "# Вероятность,что все карты крести\n",
    "all_clubs = clubs / general_comb_1\n",
    "round(all_clubs, 4)"
   ]
  },
  {
   "cell_type": "code",
   "execution_count": 6,
   "id": "bdf0825c",
   "metadata": {},
   "outputs": [
    {
     "data": {
      "text/plain": [
       "194580.0"
      ]
     },
     "execution_count": 6,
     "metadata": {},
     "output_type": "execute_result"
    }
   ],
   "source": [
    "# Количество неблагоприятных исходов (не будет ни одного туза)\n",
    "no_ace = combinations(48, 4)\n",
    "no_ace"
   ]
  },
  {
   "cell_type": "code",
   "execution_count": 7,
   "id": "1cc220bd",
   "metadata": {},
   "outputs": [
    {
     "data": {
      "text/plain": [
       "0.28"
      ]
     },
     "execution_count": 7,
     "metadata": {},
     "output_type": "execute_result"
    }
   ],
   "source": [
    "# Вероятность, что среди 4-ч карт окажется хотя бы 1 туз\n",
    "ace_1 = 1 - (no_ace / general_comb_1)\n",
    "round(ace_1, 2)"
   ]
  },
  {
   "cell_type": "markdown",
   "id": "a7fa3a23",
   "metadata": {},
   "source": [
    "-------------------------------------------------------------------------------------------------------------------------------"
   ]
  },
  {
   "cell_type": "markdown",
   "id": "a9380cd1",
   "metadata": {},
   "source": [
    "**Ответ:**  \n",
    "а) P = 0.0026  \n",
    "б) P = 0.28"
   ]
  },
  {
   "cell_type": "markdown",
   "id": "f6258913",
   "metadata": {},
   "source": [
    "-------------------------------------------------------------------------------------------------------------------------------"
   ]
  },
  {
   "cell_type": "markdown",
   "id": "697ea7cc",
   "metadata": {},
   "source": [
    "**Задача 2**  \n",
    "На входной двери подъезда установлен кодовый замок, содержащий десять кнопок с цифрами от 0 до 9. Код содержит три цифры, которые нужно нажать одновременно. Какова вероятность того, что человек, не знающий код, откроет дверь с первой попытки?"
   ]
  },
  {
   "cell_type": "code",
   "execution_count": 8,
   "id": "cfa75286",
   "metadata": {},
   "outputs": [
    {
     "data": {
      "text/plain": [
       "0.0083"
      ]
     },
     "execution_count": 8,
     "metadata": {},
     "output_type": "execute_result"
    }
   ],
   "source": [
    "# Общее число исходов\n",
    "general_comb_2 = combinations(10, 3)\n",
    "\n",
    "# Количество благоприятных исходов: 1\n",
    "\n",
    "# Вероятность открытия замка с 1 раза\n",
    "\n",
    "lock = 1/general_comb_2\n",
    "\n",
    "round(lock, 4)"
   ]
  },
  {
   "cell_type": "markdown",
   "id": "2fd82637",
   "metadata": {},
   "source": [
    "-------------------------------------------------------------------------------------------------------------------------------"
   ]
  },
  {
   "cell_type": "markdown",
   "id": "21661e5c",
   "metadata": {},
   "source": [
    "**Ответ:**\n",
    "P = 0.0083"
   ]
  },
  {
   "cell_type": "markdown",
   "id": "81e40da5",
   "metadata": {},
   "source": [
    "---------------------------------------------------------------------------"
   ]
  },
  {
   "cell_type": "markdown",
   "id": "ab33543c",
   "metadata": {},
   "source": [
    "**Задача 3**  \n",
    "В ящике имеется 15 деталей, из которых 9 окрашены. Рабочий случайным образом извлекает 3 детали. Какова вероятность того, что все извлеченные детали окрашены?"
   ]
  },
  {
   "cell_type": "code",
   "execution_count": 9,
   "id": "ccd243a1",
   "metadata": {},
   "outputs": [
    {
     "data": {
      "text/plain": [
       "455.0"
      ]
     },
     "execution_count": 9,
     "metadata": {},
     "output_type": "execute_result"
    }
   ],
   "source": [
    "# Общее число исходов\n",
    "general_comb_3 = combinations(15, 3)\n",
    "general_comb_3"
   ]
  },
  {
   "cell_type": "code",
   "execution_count": 10,
   "id": "70cfecff",
   "metadata": {},
   "outputs": [
    {
     "data": {
      "text/plain": [
       "84.0"
      ]
     },
     "execution_count": 10,
     "metadata": {},
     "output_type": "execute_result"
    }
   ],
   "source": [
    "# Количество благоприятных исходов\n",
    "painted = combinations(9, 3)\n",
    "painted"
   ]
  },
  {
   "cell_type": "code",
   "execution_count": 11,
   "id": "286f8c18",
   "metadata": {},
   "outputs": [
    {
     "data": {
      "text/plain": [
       "0.18"
      ]
     },
     "execution_count": 11,
     "metadata": {},
     "output_type": "execute_result"
    }
   ],
   "source": [
    "# Вероятность того, что все извлеченные детали окрашены\n",
    "all_painted = painted / general_comb_3\n",
    "round(all_painted, 2)"
   ]
  },
  {
   "cell_type": "markdown",
   "id": "c736be38",
   "metadata": {},
   "source": [
    "--------------------------------------"
   ]
  },
  {
   "cell_type": "markdown",
   "id": "08fd60a4",
   "metadata": {},
   "source": [
    "**Ответ:** P = 0.18"
   ]
  },
  {
   "cell_type": "markdown",
   "id": "b290bf2f",
   "metadata": {},
   "source": [
    "-------------------------------------------------"
   ]
  },
  {
   "cell_type": "markdown",
   "id": "81ef1968",
   "metadata": {},
   "source": [
    "**Задача 4**  \n",
    "В лотерее 100 билетов. Из них 2 выигрышных. Какова вероятность того, что 2 приобретенных билета окажутся выигрышными?"
   ]
  },
  {
   "cell_type": "markdown",
   "id": "5eae7e75",
   "metadata": {},
   "source": [
    "Количество благоприятных исходов: $C^2_2$ = 1"
   ]
  },
  {
   "cell_type": "code",
   "execution_count": 12,
   "id": "2a09c66d",
   "metadata": {},
   "outputs": [
    {
     "data": {
      "text/plain": [
       "4950.0"
      ]
     },
     "execution_count": 12,
     "metadata": {},
     "output_type": "execute_result"
    }
   ],
   "source": [
    "# Общее число исходов\n",
    "general_comb_4 = combinations(100, 2)\n",
    "general_comb_4"
   ]
  },
  {
   "cell_type": "code",
   "execution_count": 13,
   "id": "7d8cc738",
   "metadata": {},
   "outputs": [
    {
     "data": {
      "text/plain": [
       "0.0002"
      ]
     },
     "execution_count": 13,
     "metadata": {},
     "output_type": "execute_result"
    }
   ],
   "source": [
    "# Вероятность того, что 2 приобретенных билета окажутся выигрышными\n",
    "win = 1 / general_comb_4\n",
    "round(win, 4)"
   ]
  },
  {
   "cell_type": "markdown",
   "id": "dcfac2aa",
   "metadata": {},
   "source": [
    "------------------------------"
   ]
  },
  {
   "cell_type": "markdown",
   "id": "37fb0ddd",
   "metadata": {},
   "source": [
    "**Ответ:** P = 0.0002"
   ]
  }
 ],
 "metadata": {
  "kernelspec": {
   "display_name": "Python 3 (ipykernel)",
   "language": "python",
   "name": "python3"
  },
  "language_info": {
   "codemirror_mode": {
    "name": "ipython",
    "version": 3
   },
   "file_extension": ".py",
   "mimetype": "text/x-python",
   "name": "python",
   "nbconvert_exporter": "python",
   "pygments_lexer": "ipython3",
   "version": "3.10.2"
  }
 },
 "nbformat": 4,
 "nbformat_minor": 5
}
